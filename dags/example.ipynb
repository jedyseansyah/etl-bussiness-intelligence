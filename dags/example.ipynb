{
 "cells": [
  {
   "cell_type": "code",
   "execution_count": null,
   "id": "2894c203",
   "metadata": {
    "vscode": {
     "languageId": "plaintext"
    }
   },
   "outputs": [],
   "source": [
    "from airflow import DAG\n",
    "from airflow.operators.python import PythonOperator # type: ignore\n",
    "from datetime import datetime\n",
    "import pandas as pd\n",
    "\n",
    "    \n",
    "def transform():\n",
    "    df = pd.read_csv('/tmp/extracted_data.csv')\n",
    "    df['name'] = df['name'].str.upper()\n",
    "    df.to_csv('/tmp/transformed_data.csv', index=False)\n",
    "\n",
    "def load():\n",
    "    df = pd.read_csv('/tmp/transformed_data.csv')\n",
    "    df.to_csv('/tmp/final_data.csv', index=False)\n",
    "    print(\"Data loaded:\", df)\n",
    "\n",
    "with DAG(\n",
    "    dag_id='etl_example',\n",
    "    start_date=datetime(2023, 1, 1),\n",
    "    # schedule_interval='@daily',\n",
    "    schedule='@daily',\n",
    "    catchup=False,\n",
    "    tags=['example', 'etl']\n",
    ") as dag:\n",
    "    def extract():\n",
    "        df = pd.read_csv('https://raw.githubusercontent.com/microsoft/DataStoriesSamples/refs/heads/master/samples/FraudDetectionOnADL/Data/transactions.csv')\n",
    "        print(df)\n",
    "        return df\n",
    "    \n",
    "    t1 = PythonOperator(\n",
    "        task_id='extract',\n",
    "        python_callable=extract\n",
    "    )\n",
    "\n",
    "    t2 = PythonOperator(\n",
    "        task_id='transform',\n",
    "        python_callable=transform\n",
    "    )\n",
    "\n",
    "    t3 = PythonOperator(\n",
    "        task_id='load',\n",
    "        python_callable=load\n",
    "    )"
   ]
  }
 ],
 "metadata": {
  "language_info": {
   "name": "python"
  }
 },
 "nbformat": 4,
 "nbformat_minor": 5
}
